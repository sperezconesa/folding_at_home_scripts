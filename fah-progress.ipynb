{
 "cells": [
  {
   "cell_type": "code",
   "execution_count": 2,
   "id": "30fb6049-1b72-4441-9143-ac88c6c94b79",
   "metadata": {},
   "outputs": [],
   "source": [
    "import plyvel\n",
    "import pandas as pd\n",
    "import subprocess\n",
    "import re\n",
    "import ast\n",
    "import numpy as np\n",
    "import matplotlib.pyplot as plt"
   ]
  },
  {
   "cell_type": "code",
   "execution_count": 22,
   "id": "8ff794dd",
   "metadata": {},
   "outputs": [],
   "source": [
    "plt.rcParams.update({'font.size': 22})\n",
    "#plt.rcParams.update({'size': (10,10)})\n"
   ]
  },
  {
   "cell_type": "markdown",
   "id": "61f1aebd-8e6f-4ef6-8018-6d83dbb2b093",
   "metadata": {},
   "source": [
    "# Checking Progress of FAH Project\n",
    "\n",
    "This notebook analyzes the database of a Folding@Home Workserver. With this you can check for the progress of projects. \n",
    "The database is a levelDB database so you must install levelDB on the computer where you run this notebook for the plyvel library to work."
   ]
  },
  {
   "cell_type": "markdown",
   "id": "96bc41b5-6bd0-4e7d-a42e-f3d1a8e817bc",
   "metadata": {},
   "source": [
    "## Download the database and project.xml\n",
    "\n",
    "Please choose the path to the database in the server as if you were to use rsync (sergio@my_workserver:/my/path/to/worklevel.db) and the project number."
   ]
  },
  {
   "cell_type": "code",
   "execution_count": 3,
   "id": "26d412b6-5e34-439b-94c5-e216d5dc12ed",
   "metadata": {},
   "outputs": [],
   "source": [
    "project_number = 16465\n",
    "rsync_path = \"lilac:/home/singhs15/scratch/work-server-db/pllwskifah2/work.leveldb\"\n",
    "project_path = (\n",
    "    f\"lilac:/home/singhs15/scratch/work-server-db/pllwskifah2/{project_number}-project.xml\"\n",
    ")\n",
    "# rsync_path = \"/home/sergio/bin/\""
   ]
  },
  {
   "cell_type": "code",
   "execution_count": 4,
   "id": "01bd43d7-0cf3-4405-b659-79a285a1af21",
   "metadata": {},
   "outputs": [
    {
     "name": "stdout",
     "output_type": "stream",
     "text": [
      "rsync -uiha --del lilac:/home/singhs15/scratch/work-server-db/pllwskifah2/work.leveldb work.level.db/\n"
     ]
    }
   ],
   "source": [
    "print(f\"rsync -uiha --del {rsync_path} work.level.db/\")"
   ]
  },
  {
   "cell_type": "markdown",
   "id": "78ea291e-056c-44d5-9ea4-4ac3272db631",
   "metadata": {},
   "source": [
    "## Process Database"
   ]
  },
  {
   "cell_type": "code",
   "execution_count": 5,
   "id": "3a2bda5b-2d5a-496f-af33-1d7abfbd5375",
   "metadata": {},
   "outputs": [
    {
     "name": "stdout",
     "output_type": "stream",
     "text": [
      "###############\n",
      "Return code scp work.level.db: 0\n",
      "###############\n",
      "Return code scp project.xml: 0\n",
      "###############\n",
      "Output: \n"
     ]
    }
   ],
   "source": [
    "output = subprocess.run(\"rm -rf work.level.db/\", shell=True)\n",
    "output = subprocess.run(\n",
    "    f\"scp -r {rsync_path} ./work.level.db/\", capture_output=True, shell=True\n",
    ")\n",
    "print(\"###############\")\n",
    "print(\"Return code scp work.level.db:\", output.returncode)\n",
    "print(\"###############\")\n",
    "output = subprocess.run(\n",
    "    f\"scp -r {project_path} work.level.db/project.xml\", capture_output=True, shell=True\n",
    ")\n",
    "print(\"Return code scp project.xml:\", output.returncode)\n",
    "print(\"###############\")\n",
    "print(\"Output:\", output.stdout.decode(\"utf-8\"))"
   ]
  },
  {
   "cell_type": "code",
   "execution_count": 6,
   "id": "05b6080f-cd43-4a65-889d-bb6a503d978a",
   "metadata": {},
   "outputs": [],
   "source": [
    "db = plyvel.DB(\"/Users/sukrit/work/scripts/choderalab/folding_at_home_scripts/work.level.db\", create_if_missing=False)"
   ]
  },
  {
   "cell_type": "code",
   "execution_count": 7,
   "id": "ea1f2245-b6e6-4546-bf3d-1276dc303952",
   "metadata": {},
   "outputs": [
    {
     "data": {
      "text/html": [
       "<div>\n",
       "<style scoped>\n",
       "    .dataframe tbody tr th:only-of-type {\n",
       "        vertical-align: middle;\n",
       "    }\n",
       "\n",
       "    .dataframe tbody tr th {\n",
       "        vertical-align: top;\n",
       "    }\n",
       "\n",
       "    .dataframe thead th {\n",
       "        text-align: right;\n",
       "    }\n",
       "</style>\n",
       "<table border=\"1\" class=\"dataframe\">\n",
       "  <thead>\n",
       "    <tr style=\"text-align: right;\">\n",
       "      <th></th>\n",
       "      <th>server</th>\n",
       "      <th>state</th>\n",
       "      <th>project</th>\n",
       "      <th>core</th>\n",
       "      <th>run</th>\n",
       "      <th>clone</th>\n",
       "      <th>gen</th>\n",
       "      <th>retries</th>\n",
       "      <th>assigns</th>\n",
       "      <th>progress</th>\n",
       "      <th>assigned</th>\n",
       "    </tr>\n",
       "  </thead>\n",
       "  <tbody>\n",
       "    <tr>\n",
       "      <th>0</th>\n",
       "      <td>2359493842</td>\n",
       "      <td>READY</td>\n",
       "      <td>16465</td>\n",
       "      <td>34</td>\n",
       "      <td>0</td>\n",
       "      <td>0</td>\n",
       "      <td>100</td>\n",
       "      <td>0</td>\n",
       "      <td>147</td>\n",
       "      <td>0.400</td>\n",
       "      <td>NaN</td>\n",
       "    </tr>\n",
       "    <tr>\n",
       "      <th>1</th>\n",
       "      <td>2359493842</td>\n",
       "      <td>READY</td>\n",
       "      <td>16465</td>\n",
       "      <td>34</td>\n",
       "      <td>0</td>\n",
       "      <td>1</td>\n",
       "      <td>82</td>\n",
       "      <td>1</td>\n",
       "      <td>124</td>\n",
       "      <td>0.328</td>\n",
       "      <td>NaN</td>\n",
       "    </tr>\n",
       "    <tr>\n",
       "      <th>2</th>\n",
       "      <td>2359493842</td>\n",
       "      <td>READY</td>\n",
       "      <td>16465</td>\n",
       "      <td>34</td>\n",
       "      <td>0</td>\n",
       "      <td>10</td>\n",
       "      <td>86</td>\n",
       "      <td>0</td>\n",
       "      <td>128</td>\n",
       "      <td>0.344</td>\n",
       "      <td>NaN</td>\n",
       "    </tr>\n",
       "    <tr>\n",
       "      <th>3</th>\n",
       "      <td>2359493842</td>\n",
       "      <td>READY</td>\n",
       "      <td>16465</td>\n",
       "      <td>34</td>\n",
       "      <td>0</td>\n",
       "      <td>100</td>\n",
       "      <td>95</td>\n",
       "      <td>1</td>\n",
       "      <td>138</td>\n",
       "      <td>0.380</td>\n",
       "      <td>NaN</td>\n",
       "    </tr>\n",
       "    <tr>\n",
       "      <th>4</th>\n",
       "      <td>2359493842</td>\n",
       "      <td>FAILED</td>\n",
       "      <td>16465</td>\n",
       "      <td>34</td>\n",
       "      <td>0</td>\n",
       "      <td>1000</td>\n",
       "      <td>99</td>\n",
       "      <td>4</td>\n",
       "      <td>147</td>\n",
       "      <td>0.396</td>\n",
       "      <td>NaN</td>\n",
       "    </tr>\n",
       "  </tbody>\n",
       "</table>\n",
       "</div>"
      ],
      "text/plain": [
       "       server   state  project  core  run  clone  gen  retries  assigns  \\\n",
       "0  2359493842   READY    16465    34    0      0  100        0      147   \n",
       "1  2359493842   READY    16465    34    0      1   82        1      124   \n",
       "2  2359493842   READY    16465    34    0     10   86        0      128   \n",
       "3  2359493842   READY    16465    34    0    100   95        1      138   \n",
       "4  2359493842  FAILED    16465    34    0   1000   99        4      147   \n",
       "\n",
       "   progress assigned  \n",
       "0     0.400      NaN  \n",
       "1     0.328      NaN  \n",
       "2     0.344      NaN  \n",
       "3     0.380      NaN  \n",
       "4     0.396      NaN  "
      ]
     },
     "execution_count": 7,
     "metadata": {},
     "output_type": "execute_result"
    }
   ],
   "source": [
    "l = []\n",
    "for key, value in db:\n",
    "    if re.search(f\"P{project_number}\", str(key)):\n",
    "        entry = db.get(key)\n",
    "        entry = ast.literal_eval(entry.decode(\"UTF-8\"))\n",
    "        l.append(entry)\n",
    "df = pd.DataFrame()\n",
    "df = df.append(l, ignore_index=True, sort=False)\n",
    "df.head()"
   ]
  },
  {
   "cell_type": "code",
   "execution_count": 8,
   "id": "f0c6dae8-1ede-452f-a38f-79e165581f6f",
   "metadata": {},
   "outputs": [
    {
     "name": "stdout",
     "output_type": "stream",
     "text": [
      "P16465 has 1 runs with 4000 clones and 250 gens.\n"
     ]
    }
   ],
   "source": [
    "file = open(\"work.level.db/project.xml\", \"r\")\n",
    "for line in file:\n",
    "    if re.search(\"runs\", line):\n",
    "        myRegex = re.compile(r\"[0-9]+\")\n",
    "        n_runs = int(myRegex.findall(line)[0])\n",
    "    if re.search(\"clones\", line):\n",
    "        myRegex = re.compile(r\"[0-9]+\")\n",
    "        n_clones = int(myRegex.findall(line)[0])\n",
    "    if re.search(\"gens\", line):\n",
    "        myRegex = re.compile(r\"[0-9]+\")\n",
    "        n_gens = int(myRegex.findall(line)[0])\n",
    "print(f\"P{project_number} has {n_runs} runs with {n_clones} clones and {n_gens} gens.\")"
   ]
  },
  {
   "cell_type": "markdown",
   "id": "22c82ac4-e593-4bbe-8ab1-5dc9ccdae0c1",
   "metadata": {
    "heading_collapsed": true
   },
   "source": [
    "## Progress of project"
   ]
  },
  {
   "cell_type": "code",
   "execution_count": 36,
   "id": "5306448d-03eb-4ba8-a35a-bedc6ef65020",
   "metadata": {
    "hidden": true
   },
   "outputs": [
    {
     "name": "stdout",
     "output_type": "stream",
     "text": [
      "Finished 0 clones which is 0.0 % of clones.\n",
      "Finished 406625 WU which is 40.7 % of clones.\n",
      "Failed 706 clones which is 17.6 % of clones.\n",
      "Assigned 0 clones which is 0.0 % of clones.\n"
     ]
    }
   ],
   "source": [
    "finished_clones = df[np.logical_and(df.gen == n_gens, df.state == \"FINISHED\")].shape[0]\n",
    "print(\n",
    "    f\"Finished {finished_clones} clones which is {100 * finished_clones / n_runs / n_clones:3.1f} % of clones.\"\n",
    ")\n",
    "finished_WU = np.sum(df.gen)\n",
    "print(\n",
    "    f\"Finished {finished_WU} WU which is {100 * finished_WU / n_runs / n_clones / n_gens:3.1f} % of WUs.\"\n",
    ")\n",
    "\n",
    "failed_clones = df[df.state == \"FAILED\"].shape[0]\n",
    "print(\n",
    "    f\"Failed {failed_clones} clones which is {100 * failed_clones / n_runs / n_clones:3.1f} % of clones.\"\n",
    ")\n",
    "assigned_clones = df[df.state == \"ASSIGNED\"].shape[0]\n",
    "print(\n",
    "    f\"Assigned {assigned_clones} clones which is {100 * assigned_clones / n_runs / n_clones:3.1f} % of clones.\"\n",
    ")"
   ]
  },
  {
   "cell_type": "code",
   "execution_count": 37,
   "id": "25e64ed5-d21f-469f-8dbc-61733ef9bc44",
   "metadata": {
    "hidden": true
   },
   "outputs": [
    {
     "data": {
      "text/plain": [
       "Text(0.5, 1.0, 'Probability distribution of clones')"
      ]
     },
     "execution_count": 37,
     "metadata": {},
     "output_type": "execute_result"
    },
    {
     "data": {
      "image/png": "[encoded data removed]",
      "text/plain": [
       "<Figure size 432x288 with 1 Axes>"
      ]
     },
     "metadata": {
      "needs_background": "light"
     },
     "output_type": "display_data"
    }
   ],
   "source": [
    "fig, ax = plt.subplots(1, 1)\n",
    "n, bins, patches = ax.hist(df.gen, cumulative=False, density=True)\n",
    "ax.set_xlabel(\"Gens finished of clone\")\n",
    "ax.set_ylabel(\"p(Gens finished of clone)\")\n",
    "ax.set_title(\"Probability distribution of clones\")"
   ]
  },
  {
   "cell_type": "code",
   "execution_count": 38,
   "id": "f71fe3de-e44e-4d9a-b9e2-246f8b16b65d",
   "metadata": {
    "hidden": true
   },
   "outputs": [
    {
     "data": {
      "text/plain": [
       "Text(0.5, 1.0, 'CDF')"
      ]
     },
     "execution_count": 38,
     "metadata": {},
     "output_type": "execute_result"
    },
    {
     "data": {
      "image/png": "[encoded data removed]",
      "text/plain": [
       "<Figure size 432x288 with 1 Axes>"
      ]
     },
     "metadata": {
      "needs_background": "light"
     },
     "output_type": "display_data"
    }
   ],
   "source": [
    "fig, ax = plt.subplots(1, 1)\n",
    "n, bins, patches = ax.hist(df.gen, cumulative=True, density=True)\n",
    "ax.set_xlabel(\"Gens finished of clone\")\n",
    "ax.set_ylabel(\"Cumulative Distribution Function\")\n",
    "ax.set_title(\"CDF\")"
   ]
  },
  {
   "cell_type": "markdown",
   "id": "1bfc1958",
   "metadata": {},
   "source": [
    "## Distribution of traj lengths"
   ]
  },
  {
   "cell_type": "code",
   "execution_count": 9,
   "id": "b888789d",
   "metadata": {},
   "outputs": [],
   "source": [
    "wu_length = 10\n",
    "traj_lengths_ns = df['gen'].values*wu_length"
   ]
  },
  {
   "cell_type": "code",
   "execution_count": 32,
   "id": "5003b509",
   "metadata": {},
   "outputs": [
    {
     "data": {
      "image/png": "[encoded data removed]",
      "text/plain": [
       "<Figure size 720x720 with 1 Axes>"
      ]
     },
     "metadata": {
      "needs_background": "light"
     },
     "output_type": "display_data"
    }
   ],
   "source": [
    "plt.figure(figsize=(10,10))\n",
    "plt.hist(traj_lengths_ns, range=(0, traj_lengths_ns.max()), bins=25)\n",
    "plt.xlabel(\"Traj length (ns)\")\n",
    "plt.ylabel(\"Number of CLONEs\")\n",
    "plt.title(f\"p{project_number}: \"+str(traj_lengths_ns.sum()/1000)+ \" $\\mu$s\")\n",
    "plt.savefig(\"p16465-traj-distribution.png\", dpi=300)"
   ]
  },
  {
   "cell_type": "code",
   "execution_count": null,
   "id": "1db7bdee",
   "metadata": {},
   "outputs": [],
   "source": []
  }
 ],
 "metadata": {
  "kernelspec": {
   "display_name": "Python 3",
   "language": "python",
   "name": "python3"
  },
  "language_info": {
   "codemirror_mode": {
    "name": "ipython",
    "version": 3
   },
   "file_extension": ".py",
   "mimetype": "text/x-python",
   "name": "python",
   "nbconvert_exporter": "python",
   "pygments_lexer": "ipython3",
   "version": "3.8.5"
  },
  "toc": {
   "base_numbering": 1,
   "nav_menu": {},
   "number_sections": true,
   "sideBar": true,
   "skip_h1_title": false,
   "title_cell": "Table of Contents",
   "title_sidebar": "Contents",
   "toc_cell": false,
   "toc_position": {},
   "toc_section_display": true,
   "toc_window_display": false
  },
  "widgets": {
   "application/vnd.jupyter.widget-state+json": {
    "state": {
     "04482ef63121466a8371c3a89fcaef4c": {
      "model_module": "@jupyter-widgets/controls",
      "model_module_version": "1.5.0",
      "model_name": "DescriptionStyleModel",
      "state": {
       "description_width": ""
      }
     },
     "08ec6f331e7b449983f3886e672618c1": {
      "model_module": "@jupyter-widgets/controls",
      "model_module_version": "1.5.0",
      "model_name": "FloatProgressModel",
      "state": {
       "bar_style": "success",
       "layout": "IPY_MODEL_3d1ff98f70a24222b04c8b216e76840c",
       "style": "IPY_MODEL_ecb1b23a24b540c89593746d1d34cafd",
       "value": 100
      }
     },
     "0c0ca09de2a44ea4ab99568453b614ac": {
      "model_module": "@jupyter-widgets/controls",
      "model_module_version": "1.5.0",
      "model_name": "DescriptionStyleModel",
      "state": {
       "description_width": ""
      }
     },
     "0f7a134c5e714bff8c4e269359335244": {
      "model_module": "@jupyter-widgets/controls",
      "model_module_version": "1.5.0",
      "model_name": "HTMLModel",
      "state": {
       "layout": "IPY_MODEL_14a4490ae29d4839876319ced902b430",
       "style": "IPY_MODEL_04482ef63121466a8371c3a89fcaef4c",
       "value": "100%"
      }
     },
     "135df5ad2b6646738197cf8cde14739e": {
      "model_module": "@jupyter-widgets/controls",
      "model_module_version": "1.5.0",
      "model_name": "DescriptionStyleModel",
      "state": {
       "description_width": ""
      }
     },
     "138807259ad945de8ccac11458ce2f82": {
      "model_module": "@jupyter-widgets/base",
      "model_module_version": "1.2.0",
      "model_name": "LayoutModel",
      "state": {}
     },
     "14a4490ae29d4839876319ced902b430": {
      "model_module": "@jupyter-widgets/base",
      "model_module_version": "1.2.0",
      "model_name": "LayoutModel",
      "state": {}
     },
     "1a556539e59a42858b2de879d4b971c0": {
      "model_module": "@jupyter-widgets/base",
      "model_module_version": "1.2.0",
      "model_name": "LayoutModel",
      "state": {}
     },
     "25bb150fa769486090f617ff7dcde11d": {
      "model_module": "@jupyter-widgets/controls",
      "model_module_version": "1.5.0",
      "model_name": "HTMLModel",
      "state": {
       "layout": "IPY_MODEL_76d87a43b7894d878b5b7793d0a6adc9",
       "style": "IPY_MODEL_0c0ca09de2a44ea4ab99568453b614ac",
       "value": "100%"
      }
     },
     "269007a1e46144fca6dc511dc784a137": {
      "model_module": "@jupyter-widgets/controls",
      "model_module_version": "1.5.0",
      "model_name": "HBoxModel",
      "state": {
       "children": [
        "IPY_MODEL_0f7a134c5e714bff8c4e269359335244",
        "IPY_MODEL_08ec6f331e7b449983f3886e672618c1",
        "IPY_MODEL_f72703b866074352842f40240e2927d9"
       ],
       "layout": "IPY_MODEL_acdae2768ce94bf6b7a2e99e21300e0e"
      }
     },
     "2d9d6d9d85e04cb1ac090473acdaf732": {
      "model_module": "@jupyter-widgets/base",
      "model_module_version": "1.2.0",
      "model_name": "LayoutModel",
      "state": {}
     },
     "3042b4baccf447e18fb1e06c980608f8": {
      "model_module": "@jupyter-widgets/base",
      "model_module_version": "1.2.0",
      "model_name": "LayoutModel",
      "state": {}
     },
     "328d23f60a6a41ce942af7cfb3a277a3": {
      "model_module": "@jupyter-widgets/controls",
      "model_module_version": "1.5.0",
      "model_name": "DescriptionStyleModel",
      "state": {
       "description_width": ""
      }
     },
     "3a6e74b8ffcf4654911999ee0cc9b68f": {
      "model_module": "@jupyter-widgets/controls",
      "model_module_version": "1.5.0",
      "model_name": "HTMLModel",
      "state": {
       "layout": "IPY_MODEL_f9e3a7a9d5cd4865b848201f6bd7c836",
       "style": "IPY_MODEL_328d23f60a6a41ce942af7cfb3a277a3",
       "value": "  3%"
      }
     },
     "3d1ff98f70a24222b04c8b216e76840c": {
      "model_module": "@jupyter-widgets/base",
      "model_module_version": "1.2.0",
      "model_name": "LayoutModel",
      "state": {}
     },
     "3ff18ecc502540c5896766064dedf512": {
      "model_module": "@jupyter-widgets/base",
      "model_module_version": "1.2.0",
      "model_name": "LayoutModel",
      "state": {}
     },
     "4b454533a80d4efb9ccee84456da622e": {
      "model_module": "@jupyter-widgets/controls",
      "model_module_version": "1.5.0",
      "model_name": "HTMLModel",
      "state": {
       "layout": "IPY_MODEL_138807259ad945de8ccac11458ce2f82",
       "style": "IPY_MODEL_135df5ad2b6646738197cf8cde14739e",
       "value": " 72/100 [01:12&lt;00:28,  1.00s/it]"
      }
     },
     "4d4bc4787537408d976b7230c29a0269": {
      "model_module": "@jupyter-widgets/controls",
      "model_module_version": "1.5.0",
      "model_name": "FloatProgressModel",
      "state": {
       "bar_style": "success",
       "layout": "IPY_MODEL_bd94bfa7923640738dd37d182b13e4ae",
       "style": "IPY_MODEL_fb69e3409d3a46c9a885013af82b2852",
       "value": 100
      }
     },
     "57eddd106a69483bab63b244a2a680a1": {
      "model_module": "@jupyter-widgets/controls",
      "model_module_version": "1.5.0",
      "model_name": "HTMLModel",
      "state": {
       "layout": "IPY_MODEL_d6b2801e889444a8b4130c556f7cce1e",
       "style": "IPY_MODEL_8a46796e7756489a9ae5cd31eb801b4c",
       "value": " 2696/100000 [00:27&lt;16:48, 96.47it/s]"
      }
     },
     "590a5d0f4dfd4cb8ba4c4384df0e960f": {
      "model_module": "@jupyter-widgets/controls",
      "model_module_version": "1.5.0",
      "model_name": "HTMLModel",
      "state": {
       "layout": "IPY_MODEL_a6591fb816844ad28554581e8821a3aa",
       "style": "IPY_MODEL_a5b504b0d19448648e23427125bd9f83",
       "value": " 100/100 [01:40&lt;00:00,  1.00s/it]"
      }
     },
     "67c88cc057e546609a634f3384f969ec": {
      "model_module": "@jupyter-widgets/controls",
      "model_module_version": "1.5.0",
      "model_name": "DescriptionStyleModel",
      "state": {
       "description_width": ""
      }
     },
     "6a97d64fe13d41278f8788fe98c33312": {
      "model_module": "@jupyter-widgets/base",
      "model_module_version": "1.2.0",
      "model_name": "LayoutModel",
      "state": {}
     },
     "7080b9ce7b3643318e7b6c9f0ae4187f": {
      "model_module": "@jupyter-widgets/controls",
      "model_module_version": "1.5.0",
      "model_name": "HBoxModel",
      "state": {
       "children": [
        "IPY_MODEL_25bb150fa769486090f617ff7dcde11d",
        "IPY_MODEL_4d4bc4787537408d976b7230c29a0269",
        "IPY_MODEL_590a5d0f4dfd4cb8ba4c4384df0e960f"
       ],
       "layout": "IPY_MODEL_1a556539e59a42858b2de879d4b971c0"
      }
     },
     "75b7ec49fe4a42f88909d14f9d0aa3be": {
      "model_module": "@jupyter-widgets/base",
      "model_module_version": "1.2.0",
      "model_name": "LayoutModel",
      "state": {}
     },
     "76d87a43b7894d878b5b7793d0a6adc9": {
      "model_module": "@jupyter-widgets/base",
      "model_module_version": "1.2.0",
      "model_name": "LayoutModel",
      "state": {}
     },
     "8a46796e7756489a9ae5cd31eb801b4c": {
      "model_module": "@jupyter-widgets/controls",
      "model_module_version": "1.5.0",
      "model_name": "DescriptionStyleModel",
      "state": {
       "description_width": ""
      }
     },
     "8bcd2f3b65964c2598c62ddda1964c84": {
      "model_module": "@jupyter-widgets/controls",
      "model_module_version": "1.5.0",
      "model_name": "HBoxModel",
      "state": {
       "children": [
        "IPY_MODEL_ada1f47cb4aa4ff8afb05ab109f4ed65",
        "IPY_MODEL_fff7dec1bd874633b7ec00b02512df7f",
        "IPY_MODEL_4b454533a80d4efb9ccee84456da622e"
       ],
       "layout": "IPY_MODEL_ee2ee61c4e614a3ea6495006f215a834"
      }
     },
     "9e77a73929a345488c2f1fc91dfb06cd": {
      "model_module": "@jupyter-widgets/controls",
      "model_module_version": "1.5.0",
      "model_name": "FloatProgressModel",
      "state": {
       "bar_style": "danger",
       "layout": "IPY_MODEL_2d9d6d9d85e04cb1ac090473acdaf732",
       "max": 100000,
       "style": "IPY_MODEL_cb8eb70ba97f4ee99acbb26baf653d2d",
       "value": 2696
      }
     },
     "a5b504b0d19448648e23427125bd9f83": {
      "model_module": "@jupyter-widgets/controls",
      "model_module_version": "1.5.0",
      "model_name": "DescriptionStyleModel",
      "state": {
       "description_width": ""
      }
     },
     "a6591fb816844ad28554581e8821a3aa": {
      "model_module": "@jupyter-widgets/base",
      "model_module_version": "1.2.0",
      "model_name": "LayoutModel",
      "state": {}
     },
     "acdae2768ce94bf6b7a2e99e21300e0e": {
      "model_module": "@jupyter-widgets/base",
      "model_module_version": "1.2.0",
      "model_name": "LayoutModel",
      "state": {}
     },
     "ada1f47cb4aa4ff8afb05ab109f4ed65": {
      "model_module": "@jupyter-widgets/controls",
      "model_module_version": "1.5.0",
      "model_name": "HTMLModel",
      "state": {
       "layout": "IPY_MODEL_3ff18ecc502540c5896766064dedf512",
       "style": "IPY_MODEL_f3b6ad4076f248d49d51e47e4eaab11d",
       "value": " 72%"
      }
     },
     "bd94bfa7923640738dd37d182b13e4ae": {
      "model_module": "@jupyter-widgets/base",
      "model_module_version": "1.2.0",
      "model_name": "LayoutModel",
      "state": {}
     },
     "cb8eb70ba97f4ee99acbb26baf653d2d": {
      "model_module": "@jupyter-widgets/controls",
      "model_module_version": "1.5.0",
      "model_name": "ProgressStyleModel",
      "state": {
       "description_width": ""
      }
     },
     "d6b2801e889444a8b4130c556f7cce1e": {
      "model_module": "@jupyter-widgets/base",
      "model_module_version": "1.2.0",
      "model_name": "LayoutModel",
      "state": {}
     },
     "d7165ddda5124e9692617dd6236cf077": {
      "model_module": "@jupyter-widgets/controls",
      "model_module_version": "1.5.0",
      "model_name": "HBoxModel",
      "state": {
       "children": [
        "IPY_MODEL_3a6e74b8ffcf4654911999ee0cc9b68f",
        "IPY_MODEL_9e77a73929a345488c2f1fc91dfb06cd",
        "IPY_MODEL_57eddd106a69483bab63b244a2a680a1"
       ],
       "layout": "IPY_MODEL_75b7ec49fe4a42f88909d14f9d0aa3be"
      }
     },
     "ecb1b23a24b540c89593746d1d34cafd": {
      "model_module": "@jupyter-widgets/controls",
      "model_module_version": "1.5.0",
      "model_name": "ProgressStyleModel",
      "state": {
       "description_width": ""
      }
     },
     "eced8ea1db3c4c59af1bfa622a14f091": {
      "model_module": "@jupyter-widgets/controls",
      "model_module_version": "1.5.0",
      "model_name": "ProgressStyleModel",
      "state": {
       "description_width": ""
      }
     },
     "ee2ee61c4e614a3ea6495006f215a834": {
      "model_module": "@jupyter-widgets/base",
      "model_module_version": "1.2.0",
      "model_name": "LayoutModel",
      "state": {}
     },
     "f3b6ad4076f248d49d51e47e4eaab11d": {
      "model_module": "@jupyter-widgets/controls",
      "model_module_version": "1.5.0",
      "model_name": "DescriptionStyleModel",
      "state": {
       "description_width": ""
      }
     },
     "f72703b866074352842f40240e2927d9": {
      "model_module": "@jupyter-widgets/controls",
      "model_module_version": "1.5.0",
      "model_name": "HTMLModel",
      "state": {
       "layout": "IPY_MODEL_3042b4baccf447e18fb1e06c980608f8",
       "style": "IPY_MODEL_67c88cc057e546609a634f3384f969ec",
       "value": " 100/100 [00:01&lt;00:00, 95.42it/s]"
      }
     },
     "f9e3a7a9d5cd4865b848201f6bd7c836": {
      "model_module": "@jupyter-widgets/base",
      "model_module_version": "1.2.0",
      "model_name": "LayoutModel",
      "state": {}
     },
     "fb69e3409d3a46c9a885013af82b2852": {
      "model_module": "@jupyter-widgets/controls",
      "model_module_version": "1.5.0",
      "model_name": "ProgressStyleModel",
      "state": {
       "description_width": ""
      }
     },
     "fff7dec1bd874633b7ec00b02512df7f": {
      "model_module": "@jupyter-widgets/controls",
      "model_module_version": "1.5.0",
      "model_name": "FloatProgressModel",
      "state": {
       "bar_style": "danger",
       "layout": "IPY_MODEL_6a97d64fe13d41278f8788fe98c33312",
       "style": "IPY_MODEL_eced8ea1db3c4c59af1bfa622a14f091",
       "value": 72
      }
     }
    },
    "version_major": 2,
    "version_minor": 0
   }
  }
 },
 "nbformat": 4,
 "nbformat_minor": 5
}
